{
 "cells": [
  {
   "cell_type": "markdown",
   "id": "f4a45fe9",
   "metadata": {},
   "source": [
    "# Importing Packages"
   ]
  },
  {
   "cell_type": "code",
   "execution_count": 1,
   "id": "c6f1ab87",
   "metadata": {},
   "outputs": [],
   "source": [
    "# For Data Manipulation\n",
    "import pandas as pd\n",
    "import numpy as np\n",
    "\n",
    "# For plotting\n",
    "import matplotlib.pyplot as plt\n",
    "\n",
    "# Metrics\n",
    "from sklearn.metrics import mean_squared_error\n",
    "\n",
    "# SARIMAX\n",
    "from statsmodels.tsa.statespace.sarimax import SARIMAX\n",
    "\n",
    "# ACF and PACF functions\n",
    "import statsmodels.graphics.tsaplots as sgt"
   ]
  },
  {
   "cell_type": "markdown",
   "id": "e44965b3",
   "metadata": {},
   "source": [
    "# Helper Functions"
   ]
  },
  {
   "cell_type": "code",
   "execution_count": 2,
   "id": "63fe38a0",
   "metadata": {},
   "outputs": [],
   "source": [
    "def plot_acf_pacf(series: pd.Series):\n",
    "    \"\"\"\n",
    "    Plot ACF and PACF functions\n",
    "    \n",
    "    INPUTS:\n",
    "        :series (pd.Sereies): Input Time series.\n",
    "    \n",
    "    OUTPUTS:\n",
    "        :(None): No output returned\n",
    "    \"\"\"\n",
    "    fig, ax = plt.subplots(1, 2, figsize=(20, 5))\n",
    "    sgt.plot_acf(series, lags=40, ax=ax[0])\n",
    "    sgt.plot_pacf(series, lags=40, ax=ax[1], method='ywm')\n",
    "    plt.show()"
   ]
  },
  {
   "cell_type": "code",
   "execution_count": 3,
   "id": "de1cafd6",
   "metadata": {},
   "outputs": [],
   "source": [
    "def arima_modeling(df: pd.DataFrame, company_name: str):\n",
    "    \"\"\"\n",
    "    Produces an ARIMA fit for the input dataframe\n",
    "    \n",
    "    INPUTS:\n",
    "        :df (pd.DataFrame): Input dataframe.\n",
    "        :company_name (str): Company name\n",
    "    \"\"\"\n",
    "    # Train test split\n",
    "    train = df.loc[:\"2021-10-29\", :]\n",
    "    test = df.loc[\"2021-10-29\":, :]\n",
    "    \n",
    "    # Model\n",
    "    y = train[\"Adj_Close\"]\n",
    "    X = train.iloc[:, 1:]\n",
    "    model = SARIMAX(y, order=(1, 1, 1), seasonal_order=(1, 1, 1, 7), exog=X, freq=\"B\")\n",
    "    model_fit = model.fit()\n",
    "    \n",
    "    # Forecasts\n",
    "    forecast = model_fit.get_forecast(len(test.index), exog=test.iloc[:, 1:])\n",
    "    forecast_df = forecast.conf_int(alpha = 0.05)\n",
    "    forecast_df[\"Adj_Close\"] = (forecast_df[\"lower Adj_Close\"] + forecast_df[\"upper Adj_Close\"])/2\n",
    "\n",
    "    # Forecast Evaluation\n",
    "    test_mse = mean_squared_error(y_true=test[\"Adj_Close\"].to_numpy(), y_pred=forecast_df[\"Adj_Close\"].to_numpy())\n",
    "    test_rmse = np.sqrt(test_mse)\n",
    "    print(f\"Test RMSE: {round(test_rmse, 4)}\")\n",
    "    print(\"-\"*30, end=\"\\n\\n\")\n",
    "\n",
    "    # Plotting forecasts\n",
    "    fig, ax = plt.subplots(figsize=(8, 5))\n",
    "    ax.plot(test[\"Adj_Close\"].to_numpy(), label=\"Actual values\")\n",
    "    ax.plot(forecast_df[\"Adj_Close\"].to_numpy(), label=\"Test predictions\")\n",
    "    ax.set_xlabel(\"Time\", size=12)\n",
    "    ax.set_ylabel(\"Stock Price\", size=12)\n",
    "    ax.set_ylim([train[\"Adj_Close\"].min()-10, test[\"Adj_Close\"].max()+10])\n",
    "    ax.set_title(f\"{company_name}: Actuals vs ARIMA Predictions\", size=15)\n",
    "    ax.grid()\n",
    "    ax.legend()\n",
    "    plt.show()"
   ]
  },
  {
   "cell_type": "markdown",
   "id": "97f50a6b",
   "metadata": {},
   "source": [
    "# ARIMA for each company"
   ]
  },
  {
   "cell_type": "markdown",
   "id": "97d5f7b6",
   "metadata": {},
   "source": [
    "## Facebook"
   ]
  },
  {
   "cell_type": "code",
   "execution_count": 4,
   "id": "a8644b82",
   "metadata": {},
   "outputs": [
    {
     "name": "stderr",
     "output_type": "stream",
     "text": [
      "/opt/anaconda3/envs/stock/lib/python3.8/site-packages/statsmodels/tsa/base/tsa_model.py:536: ValueWarning: No frequency information was provided, so inferred frequency B will be used.\n",
      "  warnings.warn('No frequency information was'\n",
      " This problem is unconstrained.\n"
     ]
    },
    {
     "name": "stdout",
     "output_type": "stream",
     "text": [
      "RUNNING THE L-BFGS-B CODE\n",
      "\n",
      "           * * *\n",
      "\n",
      "Machine precision = 2.220D-16\n",
      " N =           21     M =           10\n",
      "\n",
      "At X0         0 variables are exactly at the bounds\n",
      "\n",
      "At iterate    0    f=  2.86564D+00    |proj g|=  8.00689D-02\n",
      "\n",
      "At iterate    5    f=  2.75589D+00    |proj g|=  3.50860D-02\n",
      "\n",
      "At iterate   10    f=  2.74188D+00    |proj g|=  2.69059D-02\n",
      "\n",
      "At iterate   15    f=  2.73451D+00    |proj g|=  8.09538D-03\n",
      "\n",
      "At iterate   20    f=  2.73377D+00    |proj g|=  6.22759D-04\n",
      "\n",
      "At iterate   25    f=  2.73374D+00    |proj g|=  9.94583D-04\n",
      "\n",
      "At iterate   30    f=  2.73359D+00    |proj g|=  1.69534D-03\n",
      "\n",
      "At iterate   35    f=  2.73357D+00    |proj g|=  4.21460D-04\n",
      "\n",
      "At iterate   40    f=  2.73356D+00    |proj g|=  5.25560D-04\n",
      "\n",
      "At iterate   45    f=  2.73348D+00    |proj g|=  2.14230D-03\n",
      "\n",
      "At iterate   50    f=  2.73345D+00    |proj g|=  5.02551D-04\n",
      "\n",
      "           * * *\n",
      "\n",
      "Tit   = total number of iterations\n",
      "Tnf   = total number of function evaluations\n",
      "Tnint = total number of segments explored during Cauchy searches\n",
      "Skip  = number of BFGS updates skipped\n",
      "Nact  = number of active bounds at final generalized Cauchy point\n",
      "Projg = norm of the final projected gradient\n",
      "F     = final function value\n",
      "\n",
      "           * * *\n",
      "\n",
      "   N    Tit     Tnf  Tnint  Skip  Nact     Projg        F\n",
      "   21     50     54      1     0     0   5.026D-04   2.733D+00\n",
      "  F =   2.7334496482993060     \n",
      "\n",
      "STOP: TOTAL NO. of ITERATIONS REACHED LIMIT                 \n"
     ]
    },
    {
     "name": "stderr",
     "output_type": "stream",
     "text": [
      "/opt/anaconda3/envs/stock/lib/python3.8/site-packages/statsmodels/base/model.py:604: ConvergenceWarning: Maximum Likelihood optimization failed to converge. Check mle_retvals\n",
      "  warnings.warn(\"Maximum Likelihood optimization failed to \"\n"
     ]
    },
    {
     "name": "stdout",
     "output_type": "stream",
     "text": [
      "Test RMSE: 13.2504\n",
      "------------------------------\n",
      "\n"
     ]
    },
    {
     "data": {
      "image/png": "[encoded data removed]",
      "text/plain": [
       "<Figure size 576x360 with 1 Axes>"
      ]
     },
     "metadata": {
      "needs_background": "light"
     },
     "output_type": "display_data"
    }
   ],
   "source": [
    "df = pd.read_csv(\"../Data/fb_sentiment_df.csv\")\n",
    "df.set_index([\"Date\"], inplace=True)\n",
    "arima_modeling(df = df, company_name = \"Facebook\")"
   ]
  },
  {
   "cell_type": "markdown",
   "id": "0b1f3e56",
   "metadata": {},
   "source": [
    "## Apple"
   ]
  },
  {
   "cell_type": "code",
   "execution_count": 5,
   "id": "1054cb82",
   "metadata": {},
   "outputs": [
    {
     "name": "stderr",
     "output_type": "stream",
     "text": [
      "/opt/anaconda3/envs/stock/lib/python3.8/site-packages/statsmodels/tsa/base/tsa_model.py:536: ValueWarning: No frequency information was provided, so inferred frequency B will be used.\n",
      "  warnings.warn('No frequency information was'\n",
      " This problem is unconstrained.\n"
     ]
    },
    {
     "name": "stdout",
     "output_type": "stream",
     "text": [
      "RUNNING THE L-BFGS-B CODE\n",
      "\n",
      "           * * *\n",
      "\n",
      "Machine precision = 2.220D-16\n",
      " N =           21     M =           10\n",
      "\n",
      "At X0         0 variables are exactly at the bounds\n",
      "\n",
      "At iterate    0    f=  2.87889D+00    |proj g|=  7.88172D-02\n",
      "\n",
      "At iterate    5    f=  2.76903D+00    |proj g|=  1.84278D-02\n",
      "\n",
      "At iterate   10    f=  2.75259D+00    |proj g|=  8.57884D-03\n",
      "\n",
      "At iterate   15    f=  2.75133D+00    |proj g|=  6.71704D-03\n",
      "\n",
      "At iterate   20    f=  2.75096D+00    |proj g|=  1.14487D-03\n",
      "\n",
      "At iterate   25    f=  2.75086D+00    |proj g|=  2.30562D-04\n",
      "\n",
      "At iterate   30    f=  2.75073D+00    |proj g|=  1.68244D-03\n",
      "\n",
      "At iterate   35    f=  2.75071D+00    |proj g|=  5.82004D-04\n",
      "\n",
      "At iterate   40    f=  2.75062D+00    |proj g|=  1.54734D-03\n",
      "\n",
      "At iterate   45    f=  2.75058D+00    |proj g|=  9.29479D-05\n"
     ]
    },
    {
     "name": "stderr",
     "output_type": "stream",
     "text": [
      "/opt/anaconda3/envs/stock/lib/python3.8/site-packages/statsmodels/base/model.py:604: ConvergenceWarning: Maximum Likelihood optimization failed to converge. Check mle_retvals\n",
      "  warnings.warn(\"Maximum Likelihood optimization failed to \"\n"
     ]
    },
    {
     "name": "stdout",
     "output_type": "stream",
     "text": [
      "\n",
      "At iterate   50    f=  2.75058D+00    |proj g|=  2.36014D-04\n",
      "\n",
      "           * * *\n",
      "\n",
      "Tit   = total number of iterations\n",
      "Tnf   = total number of function evaluations\n",
      "Tnint = total number of segments explored during Cauchy searches\n",
      "Skip  = number of BFGS updates skipped\n",
      "Nact  = number of active bounds at final generalized Cauchy point\n",
      "Projg = norm of the final projected gradient\n",
      "F     = final function value\n",
      "\n",
      "           * * *\n",
      "\n",
      "   N    Tit     Tnf  Tnint  Skip  Nact     Projg        F\n",
      "   21     50     58      1     0     0   2.360D-04   2.751D+00\n",
      "  F =   2.7505785671444913     \n",
      "\n",
      "STOP: TOTAL NO. of ITERATIONS REACHED LIMIT                 \n",
      "Test RMSE: 13.0928\n",
      "------------------------------\n",
      "\n"
     ]
    },
    {
     "data": {
      "image/png": "[encoded data removed]",
      "text/plain": [
       "<Figure size 576x360 with 1 Axes>"
      ]
     },
     "metadata": {
      "needs_background": "light"
     },
     "output_type": "display_data"
    }
   ],
   "source": [
    "df = pd.read_csv(\"../Data/aapl_sentiment_df.csv\")\n",
    "df.set_index([\"Date\"], inplace=True)\n",
    "arima_modeling(df = df, company_name = \"Apple\")"
   ]
  },
  {
   "cell_type": "markdown",
   "id": "5f191c78",
   "metadata": {},
   "source": [
    "## Amazon"
   ]
  },
  {
   "cell_type": "code",
   "execution_count": 6,
   "id": "a709b8c2",
   "metadata": {},
   "outputs": [
    {
     "name": "stderr",
     "output_type": "stream",
     "text": [
      "/opt/anaconda3/envs/stock/lib/python3.8/site-packages/statsmodels/tsa/base/tsa_model.py:536: ValueWarning: No frequency information was provided, so inferred frequency B will be used.\n",
      "  warnings.warn('No frequency information was'\n",
      " This problem is unconstrained.\n"
     ]
    },
    {
     "name": "stdout",
     "output_type": "stream",
     "text": [
      "RUNNING THE L-BFGS-B CODE\n",
      "\n",
      "           * * *\n",
      "\n",
      "Machine precision = 2.220D-16\n",
      " N =           21     M =           10\n",
      "\n",
      "At X0         0 variables are exactly at the bounds\n",
      "\n",
      "At iterate    0    f=  2.88342D+00    |proj g|=  7.82615D-02\n",
      "\n",
      "At iterate    5    f=  2.77453D+00    |proj g|=  3.91763D-02\n",
      "\n",
      "At iterate   10    f=  2.76008D+00    |proj g|=  2.99055D-02\n",
      "\n",
      "At iterate   15    f=  2.75242D+00    |proj g|=  1.23682D-02\n",
      "\n",
      "At iterate   20    f=  2.75182D+00    |proj g|=  1.02981D-03\n",
      "\n",
      "At iterate   25    f=  2.75181D+00    |proj g|=  1.96850D-04\n",
      "\n",
      "At iterate   30    f=  2.75163D+00    |proj g|=  4.13484D-03\n",
      "\n",
      "At iterate   35    f=  2.75081D+00    |proj g|=  5.78573D-03\n",
      "\n",
      "At iterate   40    f=  2.75060D+00    |proj g|=  9.27326D-04\n",
      "\n",
      "At iterate   45    f=  2.75060D+00    |proj g|=  1.49316D-04\n",
      "\n",
      "At iterate   50    f=  2.75055D+00    |proj g|=  7.13770D-04\n",
      "\n",
      "           * * *\n",
      "\n",
      "Tit   = total number of iterations\n",
      "Tnf   = total number of function evaluations\n",
      "Tnint = total number of segments explored during Cauchy searches\n",
      "Skip  = number of BFGS updates skipped\n",
      "Nact  = number of active bounds at final generalized Cauchy point\n",
      "Projg = norm of the final projected gradient\n",
      "F     = final function value\n",
      "\n",
      "           * * *\n",
      "\n",
      "   N    Tit     Tnf  Tnint  Skip  Nact     Projg        F\n",
      "   21     50     55      1     0     0   7.138D-04   2.751D+00\n",
      "  F =   2.7505545879821547     \n",
      "\n",
      "STOP: TOTAL NO. of ITERATIONS REACHED LIMIT                 \n"
     ]
    },
    {
     "name": "stderr",
     "output_type": "stream",
     "text": [
      "/opt/anaconda3/envs/stock/lib/python3.8/site-packages/statsmodels/base/model.py:604: ConvergenceWarning: Maximum Likelihood optimization failed to converge. Check mle_retvals\n",
      "  warnings.warn(\"Maximum Likelihood optimization failed to \"\n"
     ]
    },
    {
     "name": "stdout",
     "output_type": "stream",
     "text": [
      "Test RMSE: 12.6247\n",
      "------------------------------\n",
      "\n"
     ]
    },
    {
     "data": {
      "image/png": "[encoded data removed]",
      "text/plain": [
       "<Figure size 576x360 with 1 Axes>"
      ]
     },
     "metadata": {
      "needs_background": "light"
     },
     "output_type": "display_data"
    }
   ],
   "source": [
    "df = pd.read_csv(\"../Data/amzn_sentiment_df.csv\")\n",
    "df.set_index([\"Date\"], inplace=True)\n",
    "arima_modeling(df = df, company_name = \"Amazon\")"
   ]
  },
  {
   "cell_type": "markdown",
   "id": "062c1ff9",
   "metadata": {},
   "source": [
    "## Netflix"
   ]
  },
  {
   "cell_type": "code",
   "execution_count": 7,
   "id": "5afa2d85",
   "metadata": {},
   "outputs": [
    {
     "name": "stderr",
     "output_type": "stream",
     "text": [
      "/opt/anaconda3/envs/stock/lib/python3.8/site-packages/statsmodels/tsa/base/tsa_model.py:536: ValueWarning: No frequency information was provided, so inferred frequency B will be used.\n",
      "  warnings.warn('No frequency information was'\n",
      " This problem is unconstrained.\n"
     ]
    },
    {
     "name": "stdout",
     "output_type": "stream",
     "text": [
      "RUNNING THE L-BFGS-B CODE\n",
      "\n",
      "           * * *\n",
      "\n",
      "Machine precision = 2.220D-16\n",
      " N =           21     M =           10\n",
      "\n",
      "At X0         0 variables are exactly at the bounds\n",
      "\n",
      "At iterate    0    f=  2.88614D+00    |proj g|=  7.85251D-02\n",
      "\n",
      "At iterate    5    f=  2.77737D+00    |proj g|=  2.92682D-02\n",
      "\n",
      "At iterate   10    f=  2.76268D+00    |proj g|=  2.72607D-02\n",
      "\n",
      "At iterate   15    f=  2.75619D+00    |proj g|=  3.03752D-03\n",
      "\n",
      "At iterate   20    f=  2.75507D+00    |proj g|=  2.53466D-03\n",
      "\n",
      "At iterate   25    f=  2.75504D+00    |proj g|=  4.08104D-04\n",
      "\n",
      "At iterate   30    f=  2.75504D+00    |proj g|=  5.05945D-04\n",
      "\n",
      "At iterate   35    f=  2.75501D+00    |proj g|=  5.18602D-04\n",
      "\n",
      "At iterate   40    f=  2.75501D+00    |proj g|=  9.11987D-05\n",
      "\n",
      "At iterate   45    f=  2.75501D+00    |proj g|=  4.97265D-04\n"
     ]
    },
    {
     "name": "stderr",
     "output_type": "stream",
     "text": [
      "/opt/anaconda3/envs/stock/lib/python3.8/site-packages/statsmodels/base/model.py:604: ConvergenceWarning: Maximum Likelihood optimization failed to converge. Check mle_retvals\n",
      "  warnings.warn(\"Maximum Likelihood optimization failed to \"\n"
     ]
    },
    {
     "name": "stdout",
     "output_type": "stream",
     "text": [
      "\n",
      "At iterate   50    f=  2.75498D+00    |proj g|=  2.21160D-04\n",
      "\n",
      "           * * *\n",
      "\n",
      "Tit   = total number of iterations\n",
      "Tnf   = total number of function evaluations\n",
      "Tnint = total number of segments explored during Cauchy searches\n",
      "Skip  = number of BFGS updates skipped\n",
      "Nact  = number of active bounds at final generalized Cauchy point\n",
      "Projg = norm of the final projected gradient\n",
      "F     = final function value\n",
      "\n",
      "           * * *\n",
      "\n",
      "   N    Tit     Tnf  Tnint  Skip  Nact     Projg        F\n",
      "   21     50     55      1     0     0   2.212D-04   2.755D+00\n",
      "  F =   2.7549838938269429     \n",
      "\n",
      "STOP: TOTAL NO. of ITERATIONS REACHED LIMIT                 \n",
      "Test RMSE: 12.7959\n",
      "------------------------------\n",
      "\n"
     ]
    },
    {
     "data": {
      "image/png": "[encoded data removed]",
      "text/plain": [
       "<Figure size 576x360 with 1 Axes>"
      ]
     },
     "metadata": {
      "needs_background": "light"
     },
     "output_type": "display_data"
    }
   ],
   "source": [
    "df = pd.read_csv(\"../Data/nflx_sentiment_df.csv\")\n",
    "df.set_index([\"Date\"], inplace=True)\n",
    "arima_modeling(df = df, company_name = \"Netflix\")"
   ]
  },
  {
   "cell_type": "markdown",
   "id": "f75f1b0f",
   "metadata": {},
   "source": [
    "## Google"
   ]
  },
  {
   "cell_type": "code",
   "execution_count": 8,
   "id": "d33ae45b",
   "metadata": {},
   "outputs": [
    {
     "name": "stderr",
     "output_type": "stream",
     "text": [
      "/opt/anaconda3/envs/stock/lib/python3.8/site-packages/statsmodels/tsa/base/tsa_model.py:536: ValueWarning: No frequency information was provided, so inferred frequency B will be used.\n",
      "  warnings.warn('No frequency information was'\n",
      "/opt/anaconda3/envs/stock/lib/python3.8/site-packages/statsmodels/tsa/statespace/sarimax.py:966: UserWarning: Non-stationary starting autoregressive parameters found. Using zeros as starting parameters.\n",
      "  warn('Non-stationary starting autoregressive parameters'\n",
      "/opt/anaconda3/envs/stock/lib/python3.8/site-packages/statsmodels/tsa/statespace/sarimax.py:978: UserWarning: Non-invertible starting MA parameters found. Using zeros as starting parameters.\n",
      "  warn('Non-invertible starting MA parameters found.'\n",
      " This problem is unconstrained.\n"
     ]
    },
    {
     "name": "stdout",
     "output_type": "stream",
     "text": [
      "RUNNING THE L-BFGS-B CODE\n",
      "\n",
      "           * * *\n",
      "\n",
      "Machine precision = 2.220D-16\n",
      " N =           21     M =           10\n",
      "\n",
      "At X0         0 variables are exactly at the bounds\n",
      "\n",
      "At iterate    0    f=  2.87368D+00    |proj g|=  7.89518D-02\n",
      "\n",
      "At iterate    5    f=  2.76736D+00    |proj g|=  2.07928D-02\n",
      "\n",
      "At iterate   10    f=  2.75120D+00    |proj g|=  2.25013D-02\n",
      "\n",
      "At iterate   15    f=  2.74483D+00    |proj g|=  2.63499D-03\n",
      "\n",
      "At iterate   20    f=  2.74373D+00    |proj g|=  2.46864D-03\n",
      "\n",
      "At iterate   25    f=  2.74358D+00    |proj g|=  4.20916D-04\n",
      "\n",
      "At iterate   30    f=  2.74357D+00    |proj g|=  4.57018D-04\n",
      "\n",
      "At iterate   35    f=  2.74355D+00    |proj g|=  1.71349D-03\n",
      "\n",
      "At iterate   40    f=  2.74319D+00    |proj g|=  2.29900D-03\n",
      "\n",
      "At iterate   45    f=  2.74313D+00    |proj g|=  1.98895D-04\n"
     ]
    },
    {
     "name": "stderr",
     "output_type": "stream",
     "text": [
      "/opt/anaconda3/envs/stock/lib/python3.8/site-packages/statsmodels/base/model.py:604: ConvergenceWarning: Maximum Likelihood optimization failed to converge. Check mle_retvals\n",
      "  warnings.warn(\"Maximum Likelihood optimization failed to \"\n"
     ]
    },
    {
     "name": "stdout",
     "output_type": "stream",
     "text": [
      "\n",
      "At iterate   50    f=  2.74312D+00    |proj g|=  7.50860D-04\n",
      "\n",
      "           * * *\n",
      "\n",
      "Tit   = total number of iterations\n",
      "Tnf   = total number of function evaluations\n",
      "Tnint = total number of segments explored during Cauchy searches\n",
      "Skip  = number of BFGS updates skipped\n",
      "Nact  = number of active bounds at final generalized Cauchy point\n",
      "Projg = norm of the final projected gradient\n",
      "F     = final function value\n",
      "\n",
      "           * * *\n",
      "\n",
      "   N    Tit     Tnf  Tnint  Skip  Nact     Projg        F\n",
      "   21     50     55      1     0     0   7.509D-04   2.743D+00\n",
      "  F =   2.7431226826123574     \n",
      "\n",
      "STOP: TOTAL NO. of ITERATIONS REACHED LIMIT                 \n",
      "Test RMSE: 13.1479\n",
      "------------------------------\n",
      "\n"
     ]
    },
    {
     "data": {
      "image/png": "[encoded data removed]",
      "text/plain": [
       "<Figure size 576x360 with 1 Axes>"
      ]
     },
     "metadata": {
      "needs_background": "light"
     },
     "output_type": "display_data"
    }
   ],
   "source": [
    "df = pd.read_csv(\"../Data/goog_sentiment_df.csv\")\n",
    "df.set_index([\"Date\"], inplace=True)\n",
    "arima_modeling(df = df, company_name = \"Google\")"
   ]
  }
 ],
 "metadata": {
  "kernelspec": {
   "display_name": "Python 3 (ipykernel)",
   "language": "python",
   "name": "python3"
  },
  "language_info": {
   "codemirror_mode": {
    "name": "ipython",
    "version": 3
   },
   "file_extension": ".py",
   "mimetype": "text/x-python",
   "name": "python",
   "nbconvert_exporter": "python",
   "pygments_lexer": "ipython3",
   "version": "3.8.12"
  },
  "toc": {
   "base_numbering": 1,
   "nav_menu": {},
   "number_sections": true,
   "sideBar": true,
   "skip_h1_title": false,
   "title_cell": "Table of Contents",
   "title_sidebar": "Contents",
   "toc_cell": false,
   "toc_position": {},
   "toc_section_display": true,
   "toc_window_display": false
  }
 },
 "nbformat": 4,
 "nbformat_minor": 5
}
