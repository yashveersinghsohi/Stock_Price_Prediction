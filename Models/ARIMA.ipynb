{
 "cells": [
  {
   "cell_type": "markdown",
   "id": "f4a45fe9",
   "metadata": {},
   "source": [
    "# Importing Packages"
   ]
  },
  {
   "cell_type": "code",
   "execution_count": 1,
   "id": "c6f1ab87",
   "metadata": {},
   "outputs": [],
   "source": [
    "# For Data Manipulation\n",
    "import pandas as pd\n",
    "import numpy as np\n",
    "\n",
    "# For plotting\n",
    "import matplotlib.pyplot as plt\n",
    "\n",
    "# Metrics\n",
    "from sklearn.metrics import mean_squared_error\n",
    "\n",
    "# SARIMAX\n",
    "from statsmodels.tsa.statespace.sarimax import SARIMAX\n",
    "\n",
    "# ACF and PACF functions\n",
    "import statsmodels.graphics.tsaplots as sgt"
   ]
  },
  {
   "cell_type": "markdown",
   "id": "e44965b3",
   "metadata": {},
   "source": [
    "# Helper Functions"
   ]
  },
  {
   "cell_type": "code",
   "execution_count": 2,
   "id": "63fe38a0",
   "metadata": {},
   "outputs": [],
   "source": [
    "def plot_acf_pacf(series: pd.Series):\n",
    "    \"\"\"\n",
    "    Plot ACF and PACF functions\n",
    "    \n",
    "    INPUTS:\n",
    "        :series (pd.Sereies): Input Time series.\n",
    "    \n",
    "    OUTPUTS:\n",
    "        :(None): No output returned\n",
    "    \"\"\"\n",
    "    fig, ax = plt.subplots(1, 2, figsize=(20, 5))\n",
    "    sgt.plot_acf(series, lags=40, ax=ax[0])\n",
    "    sgt.plot_pacf(series, lags=40, ax=ax[1], method='ywm')\n",
    "    plt.show()"
   ]
  },
  {
   "cell_type": "code",
   "execution_count": 3,
   "id": "de1cafd6",
   "metadata": {},
   "outputs": [],
   "source": [
    "def arima_modeling(df: pd.DataFrame, company_name: str):\n",
    "    \"\"\"\n",
    "    Produces an ARIMA fit for the input dataframe\n",
    "    \n",
    "    INPUTS:\n",
    "        :df (pd.DataFrame): Input dataframe.\n",
    "        :company_name (str): Company name\n",
    "    \"\"\"\n",
    "    # Train test split\n",
    "    train = df.loc[:\"2021-10-29\", :]\n",
    "    test = df.loc[\"2021-10-29\":, :]\n",
    "    \n",
    "    # Model\n",
    "    y = train[\"Adj_Close\"]\n",
    "    X = train.iloc[:, 1:]\n",
    "    model = SARIMAX(y, order=(1, 1, 1), seasonal_order=(1, 1, 1, 5), exog=X, freq=\"B\")\n",
    "    model_fit = model.fit()\n",
    "    \n",
    "    # Forecasts\n",
    "    forecast = model_fit.get_forecast(len(test.index), exog=test.iloc[:, 1:])\n",
    "    forecast_df = forecast.conf_int(alpha = 0.05)\n",
    "    forecast_df[\"Adj_Close\"] = (forecast_df[\"lower Adj_Close\"] + forecast_df[\"upper Adj_Close\"])/2\n",
    "\n",
    "    # Forecast Evaluation\n",
    "    test_mse = mean_squared_error(y_true=test[\"Adj_Close\"].to_numpy(), y_pred=forecast_df[\"Adj_Close\"].to_numpy())\n",
    "    test_rmse = np.sqrt(test_mse)\n",
    "    print(f\"Test RMSE: {round(test_rmse, 4)}\")\n",
    "    print(\"-\"*30, end=\"\\n\\n\")\n",
    "\n",
    "    # Plotting forecasts\n",
    "    fig, ax = plt.subplots(figsize=(8, 5))\n",
    "    ax.plot(test[\"Adj_Close\"].to_numpy(), label=\"Actual values\")\n",
    "    ax.plot(forecast_df[\"Adj_Close\"].to_numpy(), label=\"Test predictions\")\n",
    "    ax.set_xlabel(\"Time\", size=12)\n",
    "    ax.set_ylabel(\"Stock Price\", size=12)\n",
    "    ax.set_ylim([train[\"Adj_Close\"].min()-10, test[\"Adj_Close\"].max()+10])\n",
    "    ax.set_title(f\"{company_name}: Actuals vs ARIMA Predictions\", size=15)\n",
    "    ax.grid()\n",
    "    ax.legend()\n",
    "    plt.show()"
   ]
  },
  {
   "cell_type": "markdown",
   "id": "97f50a6b",
   "metadata": {},
   "source": [
    "# ARIMA for each company"
   ]
  },
  {
   "cell_type": "markdown",
   "id": "97d5f7b6",
   "metadata": {},
   "source": [
    "## Facebook"
   ]
  },
  {
   "cell_type": "code",
   "execution_count": 4,
   "id": "a8644b82",
   "metadata": {},
   "outputs": [
    {
     "name": "stderr",
     "output_type": "stream",
     "text": [
      "/opt/anaconda3/envs/stock/lib/python3.8/site-packages/statsmodels/tsa/base/tsa_model.py:536: ValueWarning: No frequency information was provided, so inferred frequency B will be used.\n",
      "  warnings.warn('No frequency information was'\n",
      "/opt/anaconda3/envs/stock/lib/python3.8/site-packages/statsmodels/tsa/statespace/sarimax.py:966: UserWarning: Non-stationary starting autoregressive parameters found. Using zeros as starting parameters.\n",
      "  warn('Non-stationary starting autoregressive parameters'\n",
      " This problem is unconstrained.\n"
     ]
    },
    {
     "name": "stdout",
     "output_type": "stream",
     "text": [
      "RUNNING THE L-BFGS-B CODE\n",
      "\n",
      "           * * *\n",
      "\n",
      "Machine precision = 2.220D-16\n",
      " N =           21     M =           10\n",
      "\n",
      "At X0         0 variables are exactly at the bounds\n",
      "\n",
      "At iterate    0    f=  2.56467D+01    |proj g|=  4.58028D+01\n",
      "\n",
      "At iterate    5    f=  3.02668D+00    |proj g|=  2.00305D-01\n",
      "\n",
      "At iterate   10    f=  2.76921D+00    |proj g|=  8.52754D-02\n",
      "\n",
      "At iterate   15    f=  2.74652D+00    |proj g|=  2.32124D-02\n",
      "\n",
      "At iterate   20    f=  2.74007D+00    |proj g|=  5.20131D-03\n",
      "\n",
      "At iterate   25    f=  2.73680D+00    |proj g|=  5.01006D-03\n",
      "\n",
      "At iterate   30    f=  2.73633D+00    |proj g|=  3.58733D-04\n",
      "\n",
      "At iterate   35    f=  2.73627D+00    |proj g|=  6.62876D-05\n",
      "\n",
      "At iterate   40    f=  2.73626D+00    |proj g|=  5.48278D-04\n",
      "\n",
      "At iterate   45    f=  2.73624D+00    |proj g|=  1.26507D-04\n",
      "\n",
      "At iterate   50    f=  2.73624D+00    |proj g|=  1.32944D-04\n",
      "\n",
      "           * * *\n",
      "\n",
      "Tit   = total number of iterations\n",
      "Tnf   = total number of function evaluations\n",
      "Tnint = total number of segments explored during Cauchy searches\n",
      "Skip  = number of BFGS updates skipped\n",
      "Nact  = number of active bounds at final generalized Cauchy point\n",
      "Projg = norm of the final projected gradient\n",
      "F     = final function value\n",
      "\n",
      "           * * *\n",
      "\n",
      "   N    Tit     Tnf  Tnint  Skip  Nact     Projg        F\n",
      "   21     50     59      1     0     0   1.329D-04   2.736D+00\n",
      "  F =   2.7362378227241706     \n",
      "\n",
      "STOP: TOTAL NO. of ITERATIONS REACHED LIMIT                 \n"
     ]
    },
    {
     "name": "stderr",
     "output_type": "stream",
     "text": [
      "/opt/anaconda3/envs/stock/lib/python3.8/site-packages/statsmodels/base/model.py:604: ConvergenceWarning: Maximum Likelihood optimization failed to converge. Check mle_retvals\n",
      "  warnings.warn(\"Maximum Likelihood optimization failed to \"\n"
     ]
    },
    {
     "name": "stdout",
     "output_type": "stream",
     "text": [
      "Test RMSE: 13.209\n",
      "------------------------------\n",
      "\n"
     ]
    },
    {
     "data": {
      "image/png": "[encoded data removed]",
      "text/plain": [
       "<Figure size 576x360 with 1 Axes>"
      ]
     },
     "metadata": {
      "needs_background": "light"
     },
     "output_type": "display_data"
    }
   ],
   "source": [
    "df = pd.read_csv(\"../Data/fb_sentiment_df.csv\")\n",
    "df.set_index([\"Date\"], inplace=True)\n",
    "arima_modeling(df = df, company_name = \"Facebook\")"
   ]
  },
  {
   "cell_type": "markdown",
   "id": "0b1f3e56",
   "metadata": {},
   "source": [
    "## Apple"
   ]
  },
  {
   "cell_type": "code",
   "execution_count": 5,
   "id": "1054cb82",
   "metadata": {},
   "outputs": [
    {
     "name": "stderr",
     "output_type": "stream",
     "text": [
      "/opt/anaconda3/envs/stock/lib/python3.8/site-packages/statsmodels/tsa/base/tsa_model.py:536: ValueWarning: No frequency information was provided, so inferred frequency B will be used.\n",
      "  warnings.warn('No frequency information was'\n",
      " This problem is unconstrained.\n"
     ]
    },
    {
     "name": "stdout",
     "output_type": "stream",
     "text": [
      "RUNNING THE L-BFGS-B CODE\n",
      "\n",
      "           * * *\n",
      "\n",
      "Machine precision = 2.220D-16\n",
      " N =           21     M =           10\n",
      "\n",
      "At X0         0 variables are exactly at the bounds\n",
      "\n",
      "At iterate    0    f=  2.88667D+00    |proj g|=  7.83250D-02\n",
      "\n",
      "At iterate    5    f=  2.77933D+00    |proj g|=  4.37148D-02\n",
      "\n",
      "At iterate   10    f=  2.75920D+00    |proj g|=  2.16826D-02\n",
      "\n",
      "At iterate   15    f=  2.75480D+00    |proj g|=  2.17513D-02\n",
      "\n",
      "At iterate   20    f=  2.75305D+00    |proj g|=  2.16739D-03\n",
      "\n",
      "At iterate   25    f=  2.75300D+00    |proj g|=  1.83558D-03\n",
      "\n",
      "At iterate   30    f=  2.75299D+00    |proj g|=  6.77054D-04\n",
      "\n",
      "At iterate   35    f=  2.75293D+00    |proj g|=  2.25826D-03\n",
      "\n",
      "At iterate   40    f=  2.75287D+00    |proj g|=  1.79391D-03\n",
      "\n",
      "At iterate   45    f=  2.75284D+00    |proj g|=  1.92669D-03\n"
     ]
    },
    {
     "name": "stderr",
     "output_type": "stream",
     "text": [
      "/opt/anaconda3/envs/stock/lib/python3.8/site-packages/statsmodels/base/model.py:604: ConvergenceWarning: Maximum Likelihood optimization failed to converge. Check mle_retvals\n",
      "  warnings.warn(\"Maximum Likelihood optimization failed to \"\n"
     ]
    },
    {
     "name": "stdout",
     "output_type": "stream",
     "text": [
      "\n",
      "At iterate   50    f=  2.75283D+00    |proj g|=  7.71673D-04\n",
      "\n",
      "           * * *\n",
      "\n",
      "Tit   = total number of iterations\n",
      "Tnf   = total number of function evaluations\n",
      "Tnint = total number of segments explored during Cauchy searches\n",
      "Skip  = number of BFGS updates skipped\n",
      "Nact  = number of active bounds at final generalized Cauchy point\n",
      "Projg = norm of the final projected gradient\n",
      "F     = final function value\n",
      "\n",
      "           * * *\n",
      "\n",
      "   N    Tit     Tnf  Tnint  Skip  Nact     Projg        F\n",
      "   21     50     55      1     0     0   7.717D-04   2.753D+00\n",
      "  F =   2.7528277070551530     \n",
      "\n",
      "STOP: TOTAL NO. of ITERATIONS REACHED LIMIT                 \n",
      "Test RMSE: 12.6204\n",
      "------------------------------\n",
      "\n"
     ]
    },
    {
     "data": {
      "image/png": "[encoded data removed]",
      "text/plain": [
       "<Figure size 576x360 with 1 Axes>"
      ]
     },
     "metadata": {
      "needs_background": "light"
     },
     "output_type": "display_data"
    }
   ],
   "source": [
    "df = pd.read_csv(\"../Data/aapl_sentiment_df.csv\")\n",
    "df.set_index([\"Date\"], inplace=True)\n",
    "arima_modeling(df = df, company_name = \"Apple\")"
   ]
  },
  {
   "cell_type": "markdown",
   "id": "5f191c78",
   "metadata": {},
   "source": [
    "## Amazon"
   ]
  },
  {
   "cell_type": "code",
   "execution_count": 6,
   "id": "a709b8c2",
   "metadata": {},
   "outputs": [
    {
     "name": "stderr",
     "output_type": "stream",
     "text": [
      "/opt/anaconda3/envs/stock/lib/python3.8/site-packages/statsmodels/tsa/base/tsa_model.py:536: ValueWarning: No frequency information was provided, so inferred frequency B will be used.\n",
      "  warnings.warn('No frequency information was'\n",
      "/opt/anaconda3/envs/stock/lib/python3.8/site-packages/statsmodels/tsa/statespace/sarimax.py:966: UserWarning: Non-stationary starting autoregressive parameters found. Using zeros as starting parameters.\n",
      "  warn('Non-stationary starting autoregressive parameters'\n",
      "/opt/anaconda3/envs/stock/lib/python3.8/site-packages/statsmodels/tsa/statespace/sarimax.py:978: UserWarning: Non-invertible starting MA parameters found. Using zeros as starting parameters.\n",
      "  warn('Non-invertible starting MA parameters found.'\n",
      " This problem is unconstrained.\n"
     ]
    },
    {
     "name": "stdout",
     "output_type": "stream",
     "text": [
      "RUNNING THE L-BFGS-B CODE\n",
      "\n",
      "           * * *\n",
      "\n",
      "Machine precision = 2.220D-16\n",
      " N =           21     M =           10\n",
      "\n",
      "At X0         0 variables are exactly at the bounds\n",
      "\n",
      "At iterate    0    f=  2.89066D+00    |proj g|=  7.88003D-02\n",
      "\n",
      "At iterate    5    f=  2.78072D+00    |proj g|=  2.48710D-02\n",
      "\n",
      "At iterate   10    f=  2.75889D+00    |proj g|=  4.46462D-03\n",
      "\n",
      "At iterate   15    f=  2.75399D+00    |proj g|=  5.73671D-03\n",
      "\n",
      "At iterate   20    f=  2.75316D+00    |proj g|=  2.14958D-03\n",
      "\n",
      "At iterate   25    f=  2.75308D+00    |proj g|=  5.63979D-04\n",
      "\n",
      "At iterate   30    f=  2.75299D+00    |proj g|=  1.30644D-04\n",
      "\n",
      "At iterate   35    f=  2.75297D+00    |proj g|=  2.41303D-03\n",
      "\n",
      "At iterate   40    f=  2.75271D+00    |proj g|=  2.09908D-03\n",
      "\n",
      "At iterate   45    f=  2.75269D+00    |proj g|=  1.48543D-04\n"
     ]
    },
    {
     "name": "stderr",
     "output_type": "stream",
     "text": [
      "/opt/anaconda3/envs/stock/lib/python3.8/site-packages/statsmodels/base/model.py:604: ConvergenceWarning: Maximum Likelihood optimization failed to converge. Check mle_retvals\n",
      "  warnings.warn(\"Maximum Likelihood optimization failed to \"\n"
     ]
    },
    {
     "name": "stdout",
     "output_type": "stream",
     "text": [
      "\n",
      "At iterate   50    f=  2.75269D+00    |proj g|=  1.01462D-04\n",
      "\n",
      "           * * *\n",
      "\n",
      "Tit   = total number of iterations\n",
      "Tnf   = total number of function evaluations\n",
      "Tnint = total number of segments explored during Cauchy searches\n",
      "Skip  = number of BFGS updates skipped\n",
      "Nact  = number of active bounds at final generalized Cauchy point\n",
      "Projg = norm of the final projected gradient\n",
      "F     = final function value\n",
      "\n",
      "           * * *\n",
      "\n",
      "   N    Tit     Tnf  Tnint  Skip  Nact     Projg        F\n",
      "   21     50     54      1     0     0   1.015D-04   2.753D+00\n",
      "  F =   2.7526914978901993     \n",
      "\n",
      "STOP: TOTAL NO. of ITERATIONS REACHED LIMIT                 \n",
      "Test RMSE: 13.0385\n",
      "------------------------------\n",
      "\n"
     ]
    },
    {
     "data": {
      "image/png": "[encoded data removed]",
      "text/plain": [
       "<Figure size 576x360 with 1 Axes>"
      ]
     },
     "metadata": {
      "needs_background": "light"
     },
     "output_type": "display_data"
    }
   ],
   "source": [
    "df = pd.read_csv(\"../Data/amzn_sentiment_df.csv\")\n",
    "df.set_index([\"Date\"], inplace=True)\n",
    "arima_modeling(df = df, company_name = \"Amazon\")"
   ]
  },
  {
   "cell_type": "markdown",
   "id": "062c1ff9",
   "metadata": {},
   "source": [
    "## Netflix"
   ]
  },
  {
   "cell_type": "code",
   "execution_count": 7,
   "id": "5afa2d85",
   "metadata": {},
   "outputs": [
    {
     "name": "stderr",
     "output_type": "stream",
     "text": [
      "/opt/anaconda3/envs/stock/lib/python3.8/site-packages/statsmodels/tsa/base/tsa_model.py:536: ValueWarning: No frequency information was provided, so inferred frequency B will be used.\n",
      "  warnings.warn('No frequency information was'\n",
      " This problem is unconstrained.\n"
     ]
    },
    {
     "name": "stdout",
     "output_type": "stream",
     "text": [
      "RUNNING THE L-BFGS-B CODE\n",
      "\n",
      "           * * *\n",
      "\n",
      "Machine precision = 2.220D-16\n",
      " N =           21     M =           10\n",
      "\n",
      "At X0         0 variables are exactly at the bounds\n",
      "\n",
      "At iterate    0    f=  2.88972D+00    |proj g|=  7.74605D-02\n",
      "\n",
      "At iterate    5    f=  2.78889D+00    |proj g|=  2.33126D-02\n",
      "\n",
      "At iterate   10    f=  2.76479D+00    |proj g|=  1.02612D-02\n",
      "\n",
      "At iterate   15    f=  2.76053D+00    |proj g|=  1.39043D-02\n",
      "\n",
      "At iterate   20    f=  2.75945D+00    |proj g|=  1.07297D-03\n",
      "\n",
      "At iterate   25    f=  2.75894D+00    |proj g|=  2.26556D-03\n",
      "\n",
      "At iterate   30    f=  2.75803D+00    |proj g|=  4.25880D-03\n",
      "\n",
      "At iterate   35    f=  2.75776D+00    |proj g|=  8.80289D-04\n",
      "\n",
      "At iterate   40    f=  2.75775D+00    |proj g|=  8.93326D-04\n",
      "\n",
      "At iterate   45    f=  2.75752D+00    |proj g|=  1.32675D-03\n"
     ]
    },
    {
     "name": "stderr",
     "output_type": "stream",
     "text": [
      "/opt/anaconda3/envs/stock/lib/python3.8/site-packages/statsmodels/base/model.py:604: ConvergenceWarning: Maximum Likelihood optimization failed to converge. Check mle_retvals\n",
      "  warnings.warn(\"Maximum Likelihood optimization failed to \"\n"
     ]
    },
    {
     "name": "stdout",
     "output_type": "stream",
     "text": [
      "\n",
      "At iterate   50    f=  2.75747D+00    |proj g|=  3.95108D-04\n",
      "\n",
      "           * * *\n",
      "\n",
      "Tit   = total number of iterations\n",
      "Tnf   = total number of function evaluations\n",
      "Tnint = total number of segments explored during Cauchy searches\n",
      "Skip  = number of BFGS updates skipped\n",
      "Nact  = number of active bounds at final generalized Cauchy point\n",
      "Projg = norm of the final projected gradient\n",
      "F     = final function value\n",
      "\n",
      "           * * *\n",
      "\n",
      "   N    Tit     Tnf  Tnint  Skip  Nact     Projg        F\n",
      "   21     50     56      1     0     0   3.951D-04   2.757D+00\n",
      "  F =   2.7574670656302618     \n",
      "\n",
      "STOP: TOTAL NO. of ITERATIONS REACHED LIMIT                 \n",
      "Test RMSE: 13.0081\n",
      "------------------------------\n",
      "\n"
     ]
    },
    {
     "data": {
      "image/png": "[encoded data removed]",
      "text/plain": [
       "<Figure size 576x360 with 1 Axes>"
      ]
     },
     "metadata": {
      "needs_background": "light"
     },
     "output_type": "display_data"
    }
   ],
   "source": [
    "df = pd.read_csv(\"../Data/nflx_sentiment_df.csv\")\n",
    "df.set_index([\"Date\"], inplace=True)\n",
    "arima_modeling(df = df, company_name = \"Netflix\")"
   ]
  },
  {
   "cell_type": "markdown",
   "id": "f75f1b0f",
   "metadata": {},
   "source": [
    "## Google"
   ]
  },
  {
   "cell_type": "code",
   "execution_count": 8,
   "id": "d33ae45b",
   "metadata": {},
   "outputs": [
    {
     "name": "stderr",
     "output_type": "stream",
     "text": [
      "/opt/anaconda3/envs/stock/lib/python3.8/site-packages/statsmodels/tsa/base/tsa_model.py:536: ValueWarning: No frequency information was provided, so inferred frequency B will be used.\n",
      "  warnings.warn('No frequency information was'\n",
      "/opt/anaconda3/envs/stock/lib/python3.8/site-packages/statsmodels/tsa/statespace/sarimax.py:966: UserWarning: Non-stationary starting autoregressive parameters found. Using zeros as starting parameters.\n",
      "  warn('Non-stationary starting autoregressive parameters'\n",
      "/opt/anaconda3/envs/stock/lib/python3.8/site-packages/statsmodels/tsa/statespace/sarimax.py:978: UserWarning: Non-invertible starting MA parameters found. Using zeros as starting parameters.\n",
      "  warn('Non-invertible starting MA parameters found.'\n",
      " This problem is unconstrained.\n"
     ]
    },
    {
     "name": "stdout",
     "output_type": "stream",
     "text": [
      "RUNNING THE L-BFGS-B CODE\n",
      "\n",
      "           * * *\n",
      "\n",
      "Machine precision = 2.220D-16\n",
      " N =           21     M =           10\n",
      "\n",
      "At X0         0 variables are exactly at the bounds\n",
      "\n",
      "At iterate    0    f=  2.88596D+00    |proj g|=  7.82951D-02\n",
      "\n",
      "At iterate    5    f=  2.77536D+00    |proj g|=  3.84627D-02\n",
      "\n",
      "At iterate   10    f=  2.75616D+00    |proj g|=  5.16545D-02\n",
      "\n",
      "At iterate   15    f=  2.74749D+00    |proj g|=  6.96919D-03\n",
      "\n",
      "At iterate   20    f=  2.74661D+00    |proj g|=  8.89764D-04\n",
      "\n",
      "At iterate   25    f=  2.74654D+00    |proj g|=  3.30450D-03\n",
      "\n",
      "At iterate   30    f=  2.74641D+00    |proj g|=  1.21458D-03\n",
      "\n",
      "At iterate   35    f=  2.74639D+00    |proj g|=  6.24392D-04\n",
      "\n",
      "At iterate   40    f=  2.74601D+00    |proj g|=  6.71942D-03\n",
      "\n",
      "At iterate   45    f=  2.74586D+00    |proj g|=  1.74238D-04\n"
     ]
    },
    {
     "name": "stderr",
     "output_type": "stream",
     "text": [
      "/opt/anaconda3/envs/stock/lib/python3.8/site-packages/statsmodels/base/model.py:604: ConvergenceWarning: Maximum Likelihood optimization failed to converge. Check mle_retvals\n",
      "  warnings.warn(\"Maximum Likelihood optimization failed to \"\n"
     ]
    },
    {
     "name": "stdout",
     "output_type": "stream",
     "text": [
      "\n",
      "At iterate   50    f=  2.74586D+00    |proj g|=  8.70957D-04\n",
      "\n",
      "           * * *\n",
      "\n",
      "Tit   = total number of iterations\n",
      "Tnf   = total number of function evaluations\n",
      "Tnint = total number of segments explored during Cauchy searches\n",
      "Skip  = number of BFGS updates skipped\n",
      "Nact  = number of active bounds at final generalized Cauchy point\n",
      "Projg = norm of the final projected gradient\n",
      "F     = final function value\n",
      "\n",
      "           * * *\n",
      "\n",
      "   N    Tit     Tnf  Tnint  Skip  Nact     Projg        F\n",
      "   21     50     54      1     0     0   8.710D-04   2.746D+00\n",
      "  F =   2.7458573124858265     \n",
      "\n",
      "STOP: TOTAL NO. of ITERATIONS REACHED LIMIT                 \n",
      "Test RMSE: 13.1846\n",
      "------------------------------\n",
      "\n"
     ]
    },
    {
     "data": {
      "image/png": "[encoded data removed]",
      "text/plain": [
       "<Figure size 576x360 with 1 Axes>"
      ]
     },
     "metadata": {
      "needs_background": "light"
     },
     "output_type": "display_data"
    }
   ],
   "source": [
    "df = pd.read_csv(\"../Data/goog_sentiment_df.csv\")\n",
    "df.set_index([\"Date\"], inplace=True)\n",
    "arima_modeling(df = df, company_name = \"Google\")"
   ]
  }
 ],
 "metadata": {
  "kernelspec": {
   "display_name": "Python 3 (ipykernel)",
   "language": "python",
   "name": "python3"
  },
  "language_info": {
   "codemirror_mode": {
    "name": "ipython",
    "version": 3
   },
   "file_extension": ".py",
   "mimetype": "text/x-python",
   "name": "python",
   "nbconvert_exporter": "python",
   "pygments_lexer": "ipython3",
   "version": "3.8.12"
  },
  "toc": {
   "base_numbering": 1,
   "nav_menu": {},
   "number_sections": true,
   "sideBar": true,
   "skip_h1_title": false,
   "title_cell": "Table of Contents",
   "title_sidebar": "Contents",
   "toc_cell": false,
   "toc_position": {},
   "toc_section_display": true,
   "toc_window_display": false
  }
 },
 "nbformat": 4,
 "nbformat_minor": 5
}
